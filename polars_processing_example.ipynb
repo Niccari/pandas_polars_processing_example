{
 "cells": [
  {
   "attachments": {},
   "cell_type": "markdown",
   "id": "344c67f6",
   "metadata": {},
   "source": [
    "# 本コードについて\n",
    "[polars](https://github.com/pola-rs/polars)ライブラリを使って、ユーザ一覧、ユーザ操作一覧、リアクション一覧を集計するサンプル\n",
    "\n",
    "幾つかの例を踏まえつつ、ユーザごとの活動度(actions.point + reactions.reward)のランキングを出すことを目標とする\n",
    "\n",
    "## 更新履歴\n",
    "\n",
    "- 2022.03.18 polars v0.16.14で動作を検証\n",
    "  - sortのreverse属性がdescending属性にリネーム\n",
    "  - with_columnがwith_columnsにリネーム\n",
    "- 2022.12.30 polars v0.15.8で動作を検証、datetimeのタイムゾーンがprint時に表示される旨を追記\n",
    "- 2022.09.17 polars v0.14.0および処理上の警告に対応\n",
    "\n",
    "## データの関係\n",
    "```\n",
    "< users > (親)\n",
    "| --- < actions > (子) \n",
    "  | --- < reactions > (孫)\n",
    "```\n",
    "\n",
    "## データ構造\n",
    "- users.csv: ユーザ一覧\n",
    "  - id: ユーザID。常にユニークな文字列\n",
    "  - name: ユーザ名\n",
    "  - email: ユーザのemailアドレス\n",
    "  - type: ユーザの種類。personalは個人で、enterpriseは営利団体としている\n",
    "  - leaved: 退会済みかどうか\n",
    "- actions.csv: ユーザ操作一覧\n",
    "  - id: アクションID。常にユニークな文字列\n",
    "  - user_id: ユーザ操作をしたユーザのID\n",
    "  - date: 操作日時 ※\n",
    "  - message: 操作に関するメッセージ\n",
    "  - point: 操作により得られたポイント。整数値 or 欠損値\n",
    "- reactions.csv: ユーザ操作に対するリアクション一覧\n",
    "  - id: リアクションID\n",
    "  - action_id: リアクション対象のアクションID\n",
    "  - user_id: リアクション元のユーザID\n",
    "  - date: リアクション日時 ※\n",
    "  - type: リアクションの種類\n",
    "  - reward: リアクションによる受け取りポイント\n",
    "  \n",
    "※ いずれもISO8601フォーマットの文字列とする"
   ]
  },
  {
   "cell_type": "code",
   "execution_count": 1,
   "id": "08c01567",
   "metadata": {},
   "outputs": [],
   "source": [
    "import numpy as np\n",
    "import polars as pl"
   ]
  },
  {
   "cell_type": "markdown",
   "id": "b3b5e4d2",
   "metadata": {},
   "source": [
    "# ユーザデータの解析"
   ]
  },
  {
   "cell_type": "code",
   "execution_count": 2,
   "id": "995a8533",
   "metadata": {},
   "outputs": [
    {
     "data": {
      "text/html": [
       "<div><style>\n",
       ".dataframe > thead > tr > th,\n",
       ".dataframe > tbody > tr > td {\n",
       "  text-align: right;\n",
       "}\n",
       "</style>\n",
       "<small>shape: (5, 5)</small><table border=\"1\" class=\"dataframe\"><thead><tr><th>id</th><th>name</th><th>email</th><th>type</th><th>leaved</th></tr><tr><td>str</td><td>str</td><td>str</td><td>str</td><td>bool</td></tr></thead><tbody><tr><td>&quot;BcHgeZkTsc&quot;</td><td>&quot;アリス&quot;</td><td>&quot;hoge@hoge.exam...</td><td>&quot;personal&quot;</td><td>false</td></tr><tr><td>&quot;KHPiabVr3o&quot;</td><td>&quot;ボブ&quot;</td><td>&quot;fuga@fuga.org&quot;</td><td>&quot;personal&quot;</td><td>false</td></tr><tr><td>&quot;AQA7LkexXv&quot;</td><td>&quot;チャーリー&quot;</td><td>&quot;foo@foo.net&quot;</td><td>&quot;personal&quot;</td><td>true</td></tr><tr><td>&quot;C82ZQKSQk7&quot;</td><td>&quot;ダービー&quot;</td><td>&quot;baz@baz.biz&quot;</td><td>&quot;enterprise&quot;</td><td>false</td></tr><tr><td>&quot;HzZow64HGH&quot;</td><td>&quot;エリザベス&quot;</td><td>&quot;bar@bar.info&quot;</td><td>&quot;enterprise&quot;</td><td>false</td></tr></tbody></table></div>"
      ],
      "text/plain": [
       "shape: (5, 5)\n",
       "┌────────────┬────────────┬───────────────────────┬────────────┬────────┐\n",
       "│ id         ┆ name       ┆ email                 ┆ type       ┆ leaved │\n",
       "│ ---        ┆ ---        ┆ ---                   ┆ ---        ┆ ---    │\n",
       "│ str        ┆ str        ┆ str                   ┆ str        ┆ bool   │\n",
       "╞════════════╪════════════╪═══════════════════════╪════════════╪════════╡\n",
       "│ BcHgeZkTsc ┆ アリス     ┆ hoge@hoge.example.com ┆ personal   ┆ false  │\n",
       "│ KHPiabVr3o ┆ ボブ       ┆ fuga@fuga.org         ┆ personal   ┆ false  │\n",
       "│ AQA7LkexXv ┆ チャーリー ┆ foo@foo.net           ┆ personal   ┆ true   │\n",
       "│ C82ZQKSQk7 ┆ ダービー   ┆ baz@baz.biz           ┆ enterprise ┆ false  │\n",
       "│ HzZow64HGH ┆ エリザベス ┆ bar@bar.info          ┆ enterprise ┆ false  │\n",
       "└────────────┴────────────┴───────────────────────┴────────────┴────────┘"
      ]
     },
     "execution_count": 2,
     "metadata": {},
     "output_type": "execute_result"
    }
   ],
   "source": [
    "df_users = pl.read_csv(\"users.csv\")\n",
    "df_users"
   ]
  },
  {
   "cell_type": "markdown",
   "id": "57c681a2",
   "metadata": {},
   "source": [
    "## idとnameを取り出す\n",
    "以下の様に、listで必要な列を指定するか、スライスする\n",
    "\n",
    "- listの場合、列が隣り合ってなくてもよい\n",
    "- pandasと異なり、indexが存在しないのでpolars.DataFrame.locは存在しない。スライスが等価"
   ]
  },
  {
   "cell_type": "code",
   "execution_count": 3,
   "id": "ddce47be",
   "metadata": {},
   "outputs": [
    {
     "data": {
      "text/html": [
       "<div><style>\n",
       ".dataframe > thead > tr > th,\n",
       ".dataframe > tbody > tr > td {\n",
       "  text-align: right;\n",
       "}\n",
       "</style>\n",
       "<small>shape: (5, 2)</small><table border=\"1\" class=\"dataframe\"><thead><tr><th>id</th><th>name</th></tr><tr><td>str</td><td>str</td></tr></thead><tbody><tr><td>&quot;BcHgeZkTsc&quot;</td><td>&quot;アリス&quot;</td></tr><tr><td>&quot;KHPiabVr3o&quot;</td><td>&quot;ボブ&quot;</td></tr><tr><td>&quot;AQA7LkexXv&quot;</td><td>&quot;チャーリー&quot;</td></tr><tr><td>&quot;C82ZQKSQk7&quot;</td><td>&quot;ダービー&quot;</td></tr><tr><td>&quot;HzZow64HGH&quot;</td><td>&quot;エリザベス&quot;</td></tr></tbody></table></div>"
      ],
      "text/plain": [
       "shape: (5, 2)\n",
       "┌────────────┬────────────┐\n",
       "│ id         ┆ name       │\n",
       "│ ---        ┆ ---        │\n",
       "│ str        ┆ str        │\n",
       "╞════════════╪════════════╡\n",
       "│ BcHgeZkTsc ┆ アリス     │\n",
       "│ KHPiabVr3o ┆ ボブ       │\n",
       "│ AQA7LkexXv ┆ チャーリー │\n",
       "│ C82ZQKSQk7 ┆ ダービー   │\n",
       "│ HzZow64HGH ┆ エリザベス │\n",
       "└────────────┴────────────┘"
      ]
     },
     "execution_count": 3,
     "metadata": {},
     "output_type": "execute_result"
    }
   ],
   "source": [
    "df_users[[\"id\", \"name\"]]"
   ]
  },
  {
   "cell_type": "code",
   "execution_count": 4,
   "id": "ed4fbcaa",
   "metadata": {},
   "outputs": [
    {
     "data": {
      "text/html": [
       "<div><style>\n",
       ".dataframe > thead > tr > th,\n",
       ".dataframe > tbody > tr > td {\n",
       "  text-align: right;\n",
       "}\n",
       "</style>\n",
       "<small>shape: (5, 2)</small><table border=\"1\" class=\"dataframe\"><thead><tr><th>id</th><th>name</th></tr><tr><td>str</td><td>str</td></tr></thead><tbody><tr><td>&quot;BcHgeZkTsc&quot;</td><td>&quot;アリス&quot;</td></tr><tr><td>&quot;KHPiabVr3o&quot;</td><td>&quot;ボブ&quot;</td></tr><tr><td>&quot;AQA7LkexXv&quot;</td><td>&quot;チャーリー&quot;</td></tr><tr><td>&quot;C82ZQKSQk7&quot;</td><td>&quot;ダービー&quot;</td></tr><tr><td>&quot;HzZow64HGH&quot;</td><td>&quot;エリザベス&quot;</td></tr></tbody></table></div>"
      ],
      "text/plain": [
       "shape: (5, 2)\n",
       "┌────────────┬────────────┐\n",
       "│ id         ┆ name       │\n",
       "│ ---        ┆ ---        │\n",
       "│ str        ┆ str        │\n",
       "╞════════════╪════════════╡\n",
       "│ BcHgeZkTsc ┆ アリス     │\n",
       "│ KHPiabVr3o ┆ ボブ       │\n",
       "│ AQA7LkexXv ┆ チャーリー │\n",
       "│ C82ZQKSQk7 ┆ ダービー   │\n",
       "│ HzZow64HGH ┆ エリザベス │\n",
       "└────────────┴────────────┘"
      ]
     },
     "execution_count": 4,
     "metadata": {},
     "output_type": "execute_result"
    }
   ],
   "source": [
    "df_users[:, :\"name\"]    # same as df_users.loc[:, :\"name\"] of pd.DataFrame"
   ]
  },
  {
   "cell_type": "markdown",
   "id": "fdb03cf3",
   "metadata": {},
   "source": [
    "## enterprise ユーザ or 退会済みユーザを取り出す: pl.DataFrame.filter等\n",
    "複数条件指定時、ANDは\"&\"、ORは\"|\"でつなぐ\n",
    "\n",
    "条件式は必ず()で括らないと意図した評価順にならず、`TypeError`となる\n",
    "\n",
    "※ pandasと異なり、query関数は存在しない"
   ]
  },
  {
   "cell_type": "code",
   "execution_count": 5,
   "id": "6ee27bf1",
   "metadata": {},
   "outputs": [
    {
     "data": {
      "text/html": [
       "<div><style>\n",
       ".dataframe > thead > tr > th,\n",
       ".dataframe > tbody > tr > td {\n",
       "  text-align: right;\n",
       "}\n",
       "</style>\n",
       "<small>shape: (3, 5)</small><table border=\"1\" class=\"dataframe\"><thead><tr><th>id</th><th>name</th><th>email</th><th>type</th><th>leaved</th></tr><tr><td>str</td><td>str</td><td>str</td><td>str</td><td>bool</td></tr></thead><tbody><tr><td>&quot;AQA7LkexXv&quot;</td><td>&quot;チャーリー&quot;</td><td>&quot;foo@foo.net&quot;</td><td>&quot;personal&quot;</td><td>true</td></tr><tr><td>&quot;C82ZQKSQk7&quot;</td><td>&quot;ダービー&quot;</td><td>&quot;baz@baz.biz&quot;</td><td>&quot;enterprise&quot;</td><td>false</td></tr><tr><td>&quot;HzZow64HGH&quot;</td><td>&quot;エリザベス&quot;</td><td>&quot;bar@bar.info&quot;</td><td>&quot;enterprise&quot;</td><td>false</td></tr></tbody></table></div>"
      ],
      "text/plain": [
       "shape: (3, 5)\n",
       "┌────────────┬────────────┬──────────────┬────────────┬────────┐\n",
       "│ id         ┆ name       ┆ email        ┆ type       ┆ leaved │\n",
       "│ ---        ┆ ---        ┆ ---          ┆ ---        ┆ ---    │\n",
       "│ str        ┆ str        ┆ str          ┆ str        ┆ bool   │\n",
       "╞════════════╪════════════╪══════════════╪════════════╪════════╡\n",
       "│ AQA7LkexXv ┆ チャーリー ┆ foo@foo.net  ┆ personal   ┆ true   │\n",
       "│ C82ZQKSQk7 ┆ ダービー   ┆ baz@baz.biz  ┆ enterprise ┆ false  │\n",
       "│ HzZow64HGH ┆ エリザベス ┆ bar@bar.info ┆ enterprise ┆ false  │\n",
       "└────────────┴────────────┴──────────────┴────────────┴────────┘"
      ]
     },
     "execution_count": 5,
     "metadata": {},
     "output_type": "execute_result"
    }
   ],
   "source": [
    "df_users.filter((pl.col(\"type\") == \"enterprise\") | (pl.col(\"leaved\") == True))"
   ]
  },
  {
   "cell_type": "markdown",
   "id": "aec6a5e8",
   "metadata": {},
   "source": [
    "※ polars v0.14.0以降、DataFrameのattributeによる特定列を指定は廃止となった。特定列の参照だけであれば`polars.DataFrame.get_column`および`polars.DataFrame.get_columns`、特定列の更新であれば`polars.DataFrame.with_column`および`polars.DataFrame.with_columns`を使う。これら処理は並列に実行されるので、polarsにおける速度改善の面でも推奨される。\n",
    "\n",
    "公式ドキュメント: https://pola-rs.github.io/polars-book/user-guide/coming_from_pandas.html#column-assignment"
   ]
  },
  {
   "cell_type": "markdown",
   "id": "567791af",
   "metadata": {},
   "source": [
    "## ユーザ数を出す"
   ]
  },
  {
   "cell_type": "markdown",
   "id": "d79389d2",
   "metadata": {},
   "source": [
    "### 全ユーザ数"
   ]
  },
  {
   "cell_type": "code",
   "execution_count": 6,
   "id": "013b9889",
   "metadata": {},
   "outputs": [
    {
     "data": {
      "text/plain": [
       "5"
      ]
     },
     "execution_count": 6,
     "metadata": {},
     "output_type": "execute_result"
    }
   ],
   "source": [
    "len(df_users)"
   ]
  },
  {
   "cell_type": "markdown",
   "id": "eafc11d8",
   "metadata": {},
   "source": [
    "### leavedがFalseであるユーザの数(入会ユーザ数)"
   ]
  },
  {
   "cell_type": "code",
   "execution_count": 7,
   "id": "bc7abd2f",
   "metadata": {},
   "outputs": [
    {
     "data": {
      "text/plain": [
       "4"
      ]
     },
     "execution_count": 7,
     "metadata": {},
     "output_type": "execute_result"
    }
   ],
   "source": [
    "len(df_users.filter(~pl.col(\"leaved\")))"
   ]
  },
  {
   "cell_type": "markdown",
   "id": "f46082fa",
   "metadata": {},
   "source": [
    "### メールアドレスが\"b\"から始まっているユーザを取りだし: polars.Series.apply\n",
    "\n",
    "今回のケースでは、df_usersのemailだけ参照すればいいので、df_users.get_column(\"email\")にapplyを使う方法が望ましい(よりスループットが高く、必要なデータのみ触るため)。polarsでは、第二引数(return_dtype)で返り値の型を指定しておく必要がある。また、よりシンプルに `df_users.filter((pl.col(\"email\") >= \"b\") & (pl.col(\"email\") < \"c\"))`とすることも可。\n",
    "\n",
    "なお、polars.DataFrame.applyではcallableに渡されるのはTuple型の各行データになっている。\n"
   ]
  },
  {
   "cell_type": "code",
   "execution_count": 8,
   "id": "98bee18c",
   "metadata": {},
   "outputs": [
    {
     "name": "stdout",
     "output_type": "stream",
     "text": [
      "2\n"
     ]
    }
   ],
   "source": [
    "serial_email_b_start = df_users.get_column(\"email\").apply(lambda email: email.startswith(\"b\"))\n",
    "print(len(df_users.filter(serial_email_b_start)))"
   ]
  },
  {
   "cell_type": "markdown",
   "id": "ea8af937",
   "metadata": {},
   "source": [
    "## ユニークなユーザタイプをリストアップし、カウントアップ: polars.DataFrame.unique, polars.Series.to_list\n",
    "\n",
    "- pandas.DataFrame.drop_duplicates ≒ polars.DataFrame.unique\n",
    "- pandas.Series.to_list = polars.Series.to_list"
   ]
  },
  {
   "cell_type": "code",
   "execution_count": 9,
   "id": "21038c27",
   "metadata": {},
   "outputs": [
    {
     "data": {
      "text/plain": [
       "['personal', 'enterprise']"
      ]
     },
     "execution_count": 9,
     "metadata": {},
     "output_type": "execute_result"
    }
   ],
   "source": [
    "user_types = df_users.unique(subset=\"type\").get_column(\"type\").to_list()\n",
    "user_types"
   ]
  },
  {
   "cell_type": "code",
   "execution_count": 10,
   "id": "8de1ee71",
   "metadata": {},
   "outputs": [
    {
     "data": {
      "text/plain": [
       "{'personal': 3, 'enterprise': 2}"
      ]
     },
     "execution_count": 10,
     "metadata": {},
     "output_type": "execute_result"
    }
   ],
   "source": [
    "{\n",
    "    user_type: len(df_users.filter(pl.col(\"type\") == user_type))\n",
    "    for user_type in user_types\n",
    "} "
   ]
  },
  {
   "cell_type": "markdown",
   "id": "354dbefb",
   "metadata": {},
   "source": [
    "# ユーザによる操作データの解析\n",
    "\n",
    "id=\"OoXNK4b3px\"について、actions.csv内でpointが空なのでnullになる\n",
    "\n",
    "主なデータは整数値のため、pointはi64になっている(pandasではNaN=float。暗黙の型変換でpointがfloatになる)"
   ]
  },
  {
   "cell_type": "code",
   "execution_count": 11,
   "id": "beb16fc1",
   "metadata": {},
   "outputs": [
    {
     "data": {
      "text/html": [
       "<div><style>\n",
       ".dataframe > thead > tr > th,\n",
       ".dataframe > tbody > tr > td {\n",
       "  text-align: right;\n",
       "}\n",
       "</style>\n",
       "<small>shape: (7, 5)</small><table border=\"1\" class=\"dataframe\"><thead><tr><th>id</th><th>user_id</th><th>date</th><th>message</th><th>point</th></tr><tr><td>str</td><td>str</td><td>str</td><td>str</td><td>i64</td></tr></thead><tbody><tr><td>&quot;7GsubTX9n6&quot;</td><td>&quot;BcHgeZkTsc&quot;</td><td>&quot;2021-08-15T10:...</td><td>&quot;Hoge hoge&quot;</td><td>1</td></tr><tr><td>&quot;D76FJVQ2j2&quot;</td><td>&quot;KHPiabVr3o&quot;</td><td>&quot;2021-08-15T10:...</td><td>&quot;Lorem Ipsum&quot;</td><td>21</td></tr><tr><td>&quot;6znyhCukd6&quot;</td><td>&quot;HzZow64HGH&quot;</td><td>&quot;2021-08-15T11:...</td><td>&quot;テスト　テスト&quot;</td><td>3</td></tr><tr><td>&quot;hSQszmDjlU&quot;</td><td>&quot;BcHgeZkTsc&quot;</td><td>&quot;2021-08-15T12:...</td><td>&quot;テスト\n",
       "テスト２&quot;</td><td>42</td></tr><tr><td>&quot;CVqQD0xH2Y&quot;</td><td>&quot;HzZow64HGH&quot;</td><td>&quot;2021-08-15T14:...</td><td>&quot;👑👑💢&quot;</td><td>49</td></tr><tr><td>&quot;OoXNK4b3px&quot;</td><td>&quot;BcHgeZkTsc&quot;</td><td>&quot;2021-08-15T14:...</td><td>&quot;🔡&quot;</td><td>null</td></tr><tr><td>&quot;veDQHBOXnG&quot;</td><td>&quot;BcHgeZkTsc&quot;</td><td>&quot;2021-08-15T14:...</td><td>&quot;foo&quot;</td><td>4</td></tr></tbody></table></div>"
      ],
      "text/plain": [
       "shape: (7, 5)\n",
       "┌────────────┬────────────┬───────────────────────────┬────────────────┬───────┐\n",
       "│ id         ┆ user_id    ┆ date                      ┆ message        ┆ point │\n",
       "│ ---        ┆ ---        ┆ ---                       ┆ ---            ┆ ---   │\n",
       "│ str        ┆ str        ┆ str                       ┆ str            ┆ i64   │\n",
       "╞════════════╪════════════╪═══════════════════════════╪════════════════╪═══════╡\n",
       "│ 7GsubTX9n6 ┆ BcHgeZkTsc ┆ 2021-08-15T10:12:34+09:00 ┆ Hoge hoge      ┆ 1     │\n",
       "│ D76FJVQ2j2 ┆ KHPiabVr3o ┆ 2021-08-15T10:23:45+09:00 ┆ Lorem Ipsum    ┆ 21    │\n",
       "│ 6znyhCukd6 ┆ HzZow64HGH ┆ 2021-08-15T11:54:32+09:00 ┆ テスト　テスト ┆ 3     │\n",
       "│ hSQszmDjlU ┆ BcHgeZkTsc ┆ 2021-08-15T12:34:56+09:00 ┆ テスト         ┆ 42    │\n",
       "│            ┆            ┆                           ┆ テスト２       ┆       │\n",
       "│ CVqQD0xH2Y ┆ HzZow64HGH ┆ 2021-08-15T14:36:52+09:00 ┆ 👑👑💢         ┆ 49    │\n",
       "│ OoXNK4b3px ┆ BcHgeZkTsc ┆ 2021-08-15T14:41:03+09:00 ┆ 🔡             ┆ null  │\n",
       "│ veDQHBOXnG ┆ BcHgeZkTsc ┆ 2021-08-15T14:52:12+09:00 ┆ foo            ┆ 4     │\n",
       "└────────────┴────────────┴───────────────────────────┴────────────────┴───────┘"
      ]
     },
     "execution_count": 11,
     "metadata": {},
     "output_type": "execute_result"
    }
   ],
   "source": [
    "df_actions = pl.read_csv(\"actions.csv\")\n",
    "df_actions"
   ]
  },
  {
   "attachments": {},
   "cell_type": "markdown",
   "id": "df9d2c54",
   "metadata": {},
   "source": [
    "## 投稿データをuser_id昇順→point降順にする: sort\n",
    "\n",
    "引数で渡すリストの各アイテムの順番がそれぞれ対応する(以下例であれば、user_idがreverse=False, pointがreverse=True)\n",
    "\n",
    "(as of v0.16.14) reverse属性は廃止され、descending属性を使う形になっている。\n",
    "\n",
    "(as of v0.15.8) pandas.DataFrame.sort_valuesはpolars.DataFrame.sortに対応する。acsending属性はreverse属性に対応するが、acsendingはTrueで昇順、reverseはTrueで降順になっている。\n"
   ]
  },
  {
   "cell_type": "code",
   "execution_count": 12,
   "id": "d9a4ea3c",
   "metadata": {},
   "outputs": [
    {
     "data": {
      "text/html": [
       "<div><style>\n",
       ".dataframe > thead > tr > th,\n",
       ".dataframe > tbody > tr > td {\n",
       "  text-align: right;\n",
       "}\n",
       "</style>\n",
       "<small>shape: (7, 5)</small><table border=\"1\" class=\"dataframe\"><thead><tr><th>id</th><th>user_id</th><th>date</th><th>message</th><th>point</th></tr><tr><td>str</td><td>str</td><td>str</td><td>str</td><td>i64</td></tr></thead><tbody><tr><td>&quot;hSQszmDjlU&quot;</td><td>&quot;BcHgeZkTsc&quot;</td><td>&quot;2021-08-15T12:...</td><td>&quot;テスト\n",
       "テスト２&quot;</td><td>42</td></tr><tr><td>&quot;veDQHBOXnG&quot;</td><td>&quot;BcHgeZkTsc&quot;</td><td>&quot;2021-08-15T14:...</td><td>&quot;foo&quot;</td><td>4</td></tr><tr><td>&quot;7GsubTX9n6&quot;</td><td>&quot;BcHgeZkTsc&quot;</td><td>&quot;2021-08-15T10:...</td><td>&quot;Hoge hoge&quot;</td><td>1</td></tr><tr><td>&quot;OoXNK4b3px&quot;</td><td>&quot;BcHgeZkTsc&quot;</td><td>&quot;2021-08-15T14:...</td><td>&quot;🔡&quot;</td><td>null</td></tr><tr><td>&quot;CVqQD0xH2Y&quot;</td><td>&quot;HzZow64HGH&quot;</td><td>&quot;2021-08-15T14:...</td><td>&quot;👑👑💢&quot;</td><td>49</td></tr><tr><td>&quot;6znyhCukd6&quot;</td><td>&quot;HzZow64HGH&quot;</td><td>&quot;2021-08-15T11:...</td><td>&quot;テスト　テスト&quot;</td><td>3</td></tr><tr><td>&quot;D76FJVQ2j2&quot;</td><td>&quot;KHPiabVr3o&quot;</td><td>&quot;2021-08-15T10:...</td><td>&quot;Lorem Ipsum&quot;</td><td>21</td></tr></tbody></table></div>"
      ],
      "text/plain": [
       "shape: (7, 5)\n",
       "┌────────────┬────────────┬───────────────────────────┬────────────────┬───────┐\n",
       "│ id         ┆ user_id    ┆ date                      ┆ message        ┆ point │\n",
       "│ ---        ┆ ---        ┆ ---                       ┆ ---            ┆ ---   │\n",
       "│ str        ┆ str        ┆ str                       ┆ str            ┆ i64   │\n",
       "╞════════════╪════════════╪═══════════════════════════╪════════════════╪═══════╡\n",
       "│ hSQszmDjlU ┆ BcHgeZkTsc ┆ 2021-08-15T12:34:56+09:00 ┆ テスト         ┆ 42    │\n",
       "│            ┆            ┆                           ┆ テスト２       ┆       │\n",
       "│ veDQHBOXnG ┆ BcHgeZkTsc ┆ 2021-08-15T14:52:12+09:00 ┆ foo            ┆ 4     │\n",
       "│ 7GsubTX9n6 ┆ BcHgeZkTsc ┆ 2021-08-15T10:12:34+09:00 ┆ Hoge hoge      ┆ 1     │\n",
       "│ OoXNK4b3px ┆ BcHgeZkTsc ┆ 2021-08-15T14:41:03+09:00 ┆ 🔡             ┆ null  │\n",
       "│ CVqQD0xH2Y ┆ HzZow64HGH ┆ 2021-08-15T14:36:52+09:00 ┆ 👑👑💢         ┆ 49    │\n",
       "│ 6znyhCukd6 ┆ HzZow64HGH ┆ 2021-08-15T11:54:32+09:00 ┆ テスト　テスト ┆ 3     │\n",
       "│ D76FJVQ2j2 ┆ KHPiabVr3o ┆ 2021-08-15T10:23:45+09:00 ┆ Lorem Ipsum    ┆ 21    │\n",
       "└────────────┴────────────┴───────────────────────────┴────────────────┴───────┘"
      ]
     },
     "execution_count": 12,
     "metadata": {},
     "output_type": "execute_result"
    }
   ],
   "source": [
    "sort_orders = [False, True]\n",
    "df_actions.sort([\"user_id\", \"point\"], descending=sort_orders)"
   ]
  },
  {
   "attachments": {},
   "cell_type": "markdown",
   "id": "e49f143c",
   "metadata": {},
   "source": [
    "## pointの値なし(null)を置き換える: fill_null\n",
    "\n",
    "valueで更新したい値を指定するか、strategyで一定ルールで値を埋める。\n",
    "\n",
    "fill_nullのstrategy属性に指定できるものは以下。\n",
    "\n",
    "- \"forward\": 直前の値で置き換える\n",
    "- \"backward\": 直後の値で置き換える\n",
    "- \"mean\": 平均値で置き換える\n",
    "- \"max\": 最大値で置き換える\n",
    "- \"min\": 最小値で置き換える\n",
    "- \"one\": 1で置き換える\n",
    "- \"zero\": 0で置き換える\n",
    "\n",
    "(as of v0.16.4) with_column属性は廃止されたので、with_columns属性を代わりに使用する。"
   ]
  },
  {
   "cell_type": "code",
   "execution_count": 13,
   "id": "7d279110",
   "metadata": {
    "scrolled": true
   },
   "outputs": [
    {
     "data": {
      "text/html": [
       "<div><style>\n",
       ".dataframe > thead > tr > th,\n",
       ".dataframe > tbody > tr > td {\n",
       "  text-align: right;\n",
       "}\n",
       "</style>\n",
       "<small>shape: (7, 2)</small><table border=\"1\" class=\"dataframe\"><thead><tr><th>id</th><th>point</th></tr><tr><td>str</td><td>i64</td></tr></thead><tbody><tr><td>&quot;7GsubTX9n6&quot;</td><td>1</td></tr><tr><td>&quot;D76FJVQ2j2&quot;</td><td>21</td></tr><tr><td>&quot;6znyhCukd6&quot;</td><td>3</td></tr><tr><td>&quot;hSQszmDjlU&quot;</td><td>42</td></tr><tr><td>&quot;CVqQD0xH2Y&quot;</td><td>49</td></tr><tr><td>&quot;OoXNK4b3px&quot;</td><td>0</td></tr><tr><td>&quot;veDQHBOXnG&quot;</td><td>4</td></tr></tbody></table></div>"
      ],
      "text/plain": [
       "shape: (7, 2)\n",
       "┌────────────┬───────┐\n",
       "│ id         ┆ point │\n",
       "│ ---        ┆ ---   │\n",
       "│ str        ┆ i64   │\n",
       "╞════════════╪═══════╡\n",
       "│ 7GsubTX9n6 ┆ 1     │\n",
       "│ D76FJVQ2j2 ┆ 21    │\n",
       "│ 6znyhCukd6 ┆ 3     │\n",
       "│ hSQszmDjlU ┆ 42    │\n",
       "│ CVqQD0xH2Y ┆ 49    │\n",
       "│ OoXNK4b3px ┆ 0     │\n",
       "│ veDQHBOXnG ┆ 4     │\n",
       "└────────────┴───────┘"
      ]
     },
     "execution_count": 13,
     "metadata": {},
     "output_type": "execute_result"
    }
   ],
   "source": [
    "df_actions = df_actions.with_columns(\n",
    "    pl.col(\"point\").fill_null(strategy=\"zero\")\n",
    ")\n",
    "df_actions[[\"id\", \"point\"]]"
   ]
  },
  {
   "attachments": {},
   "cell_type": "markdown",
   "id": "711dec5e",
   "metadata": {},
   "source": [
    "## ユーザごとにpointを合算: groupby\n",
    "\n",
    "groupbyの引数で指定した\"user_id\"はIndexに変換される\n",
    "\n",
    "aggにて、どのパラメータをどの関数・処理で集計するかを指定する(指定しないパラメータは出力されない)。pandasの場合と異なり、dictで各列に関数を渡す形ではなく、リストで列選択＋処理内容を渡すイメージ。\n",
    "\n",
    "(as of v140) 集約後の結果について昇順ソートされなくなっている。"
   ]
  },
  {
   "cell_type": "code",
   "execution_count": 14,
   "id": "c22729e9",
   "metadata": {},
   "outputs": [
    {
     "data": {
      "text/html": [
       "<div><style>\n",
       ".dataframe > thead > tr > th,\n",
       ".dataframe > tbody > tr > td {\n",
       "  text-align: right;\n",
       "}\n",
       "</style>\n",
       "<small>shape: (3, 2)</small><table border=\"1\" class=\"dataframe\"><thead><tr><th>user_id</th><th>point</th></tr><tr><td>str</td><td>i64</td></tr></thead><tbody><tr><td>&quot;BcHgeZkTsc&quot;</td><td>47</td></tr><tr><td>&quot;HzZow64HGH&quot;</td><td>52</td></tr><tr><td>&quot;KHPiabVr3o&quot;</td><td>21</td></tr></tbody></table></div>"
      ],
      "text/plain": [
       "shape: (3, 2)\n",
       "┌────────────┬───────┐\n",
       "│ user_id    ┆ point │\n",
       "│ ---        ┆ ---   │\n",
       "│ str        ┆ i64   │\n",
       "╞════════════╪═══════╡\n",
       "│ BcHgeZkTsc ┆ 47    │\n",
       "│ HzZow64HGH ┆ 52    │\n",
       "│ KHPiabVr3o ┆ 21    │\n",
       "└────────────┴───────┘"
      ]
     },
     "execution_count": 14,
     "metadata": {},
     "output_type": "execute_result"
    }
   ],
   "source": [
    "df_actions \\\n",
    "    .groupby([\"user_id\"]) \\\n",
    "    .agg([\n",
    "         pl.col(\"point\").sum()\n",
    "    ])"
   ]
  },
  {
   "cell_type": "markdown",
   "id": "85a61701",
   "metadata": {},
   "source": [
    "## ユーザごとのpointの統計値を出す: describe\n",
    "pandasでは\n",
    "\n",
    "- count, mean,std,min,25%,50%,75%,max\n",
    "\n",
    "が出力されるが、polarsでは\n",
    "\n",
    "- mean, std, min, median(=50%), max\n",
    "\n",
    "が出力される。count, 25%, 75%に相当する統計値は出さない。"
   ]
  },
  {
   "cell_type": "code",
   "execution_count": 15,
   "id": "5af63a89",
   "metadata": {},
   "outputs": [
    {
     "data": {
      "text/html": [
       "<div><style>\n",
       ".dataframe > thead > tr > th,\n",
       ".dataframe > tbody > tr > td {\n",
       "  text-align: right;\n",
       "}\n",
       "</style>\n",
       "<small>shape: (3, 8)</small><table border=\"1\" class=\"dataframe\"><thead><tr><th>user_id</th><th>count</th><th>null_count</th><th>mean</th><th>std</th><th>min</th><th>max</th><th>median</th></tr><tr><td>str</td><td>f64</td><td>f64</td><td>f64</td><td>f64</td><td>f64</td><td>f64</td><td>f64</td></tr></thead><tbody><tr><td>&quot;BcHgeZkTscBcHg...</td><td>4.0</td><td>0.0</td><td>11.75</td><td>20.238165</td><td>0.0</td><td>42.0</td><td>2.5</td></tr><tr><td>&quot;KHPiabVr3oKHPi...</td><td>1.0</td><td>0.0</td><td>21.0</td><td>0.0</td><td>21.0</td><td>21.0</td><td>21.0</td></tr><tr><td>&quot;HzZow64HGHHzZo...</td><td>2.0</td><td>0.0</td><td>26.0</td><td>32.526912</td><td>3.0</td><td>49.0</td><td>26.0</td></tr></tbody></table></div>"
      ],
      "text/plain": [
       "shape: (3, 8)\n",
       "┌──────────────────────────────────┬───────┬────────────┬───────┬───────────┬──────┬──────┬────────┐\n",
       "│ user_id                          ┆ count ┆ null_count ┆ mean  ┆ std       ┆ min  ┆ max  ┆ median │\n",
       "│ ---                              ┆ ---   ┆ ---        ┆ ---   ┆ ---       ┆ ---  ┆ ---  ┆ ---    │\n",
       "│ str                              ┆ f64   ┆ f64        ┆ f64   ┆ f64       ┆ f64  ┆ f64  ┆ f64    │\n",
       "╞══════════════════════════════════╪═══════╪════════════╪═══════╪═══════════╪══════╪══════╪════════╡\n",
       "│ BcHgeZkTscBcHgeZkTscBcHgeZkTscBc ┆ 4.0   ┆ 0.0        ┆ 11.75 ┆ 20.238165 ┆ 0.0  ┆ 42.0 ┆ 2.5    │\n",
       "│ …                                ┆       ┆            ┆       ┆           ┆      ┆      ┆        │\n",
       "│ KHPiabVr3oKHPiabVr3oKHPiabVr3oKH ┆ 1.0   ┆ 0.0        ┆ 21.0  ┆ 0.0       ┆ 21.0 ┆ 21.0 ┆ 21.0   │\n",
       "│ …                                ┆       ┆            ┆       ┆           ┆      ┆      ┆        │\n",
       "│ HzZow64HGHHzZow64HGHHzZow64HGHHz ┆ 2.0   ┆ 0.0        ┆ 26.0  ┆ 32.526912 ┆ 3.0  ┆ 49.0 ┆ 26.0   │\n",
       "│ …                                ┆       ┆            ┆       ┆           ┆      ┆      ┆        │\n",
       "└──────────────────────────────────┴───────┴────────────┴───────┴───────────┴──────┴──────┴────────┘"
      ]
     },
     "execution_count": 15,
     "metadata": {},
     "output_type": "execute_result"
    }
   ],
   "source": [
    "dfs = []\n",
    "for user_id in df_actions[\"user_id\"]:\n",
    "    df = df_actions.filter(pl.col(\"user_id\") == user_id)[[\"point\"]].describe()\n",
    "    df = df.with_columns(pl.Series(name=\"user_id\", values=pl.Series([user_id * len(df)])))\n",
    "    dfs.append(df)\n",
    "pl.concat(dfs).pivot(values=\"point\", index=\"user_id\", columns=\"describe\")"
   ]
  },
  {
   "cell_type": "markdown",
   "id": "9e2735fb",
   "metadata": {},
   "source": [
    "## ユーザごとに初めてのaction取り出し: groupby"
   ]
  },
  {
   "cell_type": "code",
   "execution_count": 16,
   "id": "bf8bba1d",
   "metadata": {},
   "outputs": [
    {
     "data": {
      "text/html": [
       "<div><style>\n",
       ".dataframe > thead > tr > th,\n",
       ".dataframe > tbody > tr > td {\n",
       "  text-align: right;\n",
       "}\n",
       "</style>\n",
       "<small>shape: (3, 4)</small><table border=\"1\" class=\"dataframe\"><thead><tr><th>user_id</th><th>date</th><th>message</th><th>point</th></tr><tr><td>str</td><td>str</td><td>str</td><td>i64</td></tr></thead><tbody><tr><td>&quot;BcHgeZkTsc&quot;</td><td>&quot;2021-08-15T10:...</td><td>&quot;Hoge hoge&quot;</td><td>1</td></tr><tr><td>&quot;HzZow64HGH&quot;</td><td>&quot;2021-08-15T11:...</td><td>&quot;テスト　テスト&quot;</td><td>3</td></tr><tr><td>&quot;KHPiabVr3o&quot;</td><td>&quot;2021-08-15T10:...</td><td>&quot;Lorem Ipsum&quot;</td><td>21</td></tr></tbody></table></div>"
      ],
      "text/plain": [
       "shape: (3, 4)\n",
       "┌────────────┬───────────────────────────┬────────────────┬───────┐\n",
       "│ user_id    ┆ date                      ┆ message        ┆ point │\n",
       "│ ---        ┆ ---                       ┆ ---            ┆ ---   │\n",
       "│ str        ┆ str                       ┆ str            ┆ i64   │\n",
       "╞════════════╪═══════════════════════════╪════════════════╪═══════╡\n",
       "│ BcHgeZkTsc ┆ 2021-08-15T10:12:34+09:00 ┆ Hoge hoge      ┆ 1     │\n",
       "│ HzZow64HGH ┆ 2021-08-15T11:54:32+09:00 ┆ テスト　テスト ┆ 3     │\n",
       "│ KHPiabVr3o ┆ 2021-08-15T10:23:45+09:00 ┆ Lorem Ipsum    ┆ 21    │\n",
       "└────────────┴───────────────────────────┴────────────────┴───────┘"
      ]
     },
     "execution_count": 16,
     "metadata": {},
     "output_type": "execute_result"
    }
   ],
   "source": [
    "df_actions \\\n",
    "    .groupby([\"user_id\"]) \\\n",
    "    .agg([\n",
    "        pl.col(\"date\").first(),\n",
    "        pl.col(\"message\").first(),\n",
    "        pl.col(\"point\").first(),\n",
    "    ])"
   ]
  },
  {
   "cell_type": "markdown",
   "id": "f32d5bb5",
   "metadata": {},
   "source": [
    "## 10分ごとのpoint値の小計を出力: groupby_dynamic\n",
    "groupby_dynamic + sumにより、10分ごとの区間でpointの小計を取る。\n",
    "\n",
    "-5Minのoffsetを入れることで、最初action日時=2021-08-15T10:12:34+09:00を含む区間として10:05(=10:10 - 0:05)から集計していく\n",
    "\n",
    "※ v0.14.19でdatetimeのタイムゾーン周りの処理が改善され、print時にタイムゾーンが表示されるようになっている。\n",
    "\n"
   ]
  },
  {
   "cell_type": "code",
   "execution_count": 17,
   "id": "5967ccfd",
   "metadata": {},
   "outputs": [
    {
     "data": {
      "text/html": [
       "<div><style>\n",
       ".dataframe > thead > tr > th,\n",
       ".dataframe > tbody > tr > td {\n",
       "  text-align: right;\n",
       "}\n",
       "</style>\n",
       "<small>shape: (6, 2)</small><table border=\"1\" class=\"dataframe\"><thead><tr><th>date</th><th>point</th></tr><tr><td>datetime[μs, +09:00]</td><td>i64</td></tr></thead><tbody><tr><td>2021-08-15 10:05:00 +09:00</td><td>1</td></tr><tr><td>2021-08-15 10:15:00 +09:00</td><td>21</td></tr><tr><td>2021-08-15 11:45:00 +09:00</td><td>3</td></tr><tr><td>2021-08-15 12:25:00 +09:00</td><td>42</td></tr><tr><td>2021-08-15 14:35:00 +09:00</td><td>49</td></tr><tr><td>2021-08-15 14:45:00 +09:00</td><td>4</td></tr></tbody></table></div>"
      ],
      "text/plain": [
       "shape: (6, 2)\n",
       "┌────────────────────────────┬───────┐\n",
       "│ date                       ┆ point │\n",
       "│ ---                        ┆ ---   │\n",
       "│ datetime[μs, +09:00]       ┆ i64   │\n",
       "╞════════════════════════════╪═══════╡\n",
       "│ 2021-08-15 10:05:00 +09:00 ┆ 1     │\n",
       "│ 2021-08-15 10:15:00 +09:00 ┆ 21    │\n",
       "│ 2021-08-15 11:45:00 +09:00 ┆ 3     │\n",
       "│ 2021-08-15 12:25:00 +09:00 ┆ 42    │\n",
       "│ 2021-08-15 14:35:00 +09:00 ┆ 49    │\n",
       "│ 2021-08-15 14:45:00 +09:00 ┆ 4     │\n",
       "└────────────────────────────┴───────┘"
      ]
     },
     "execution_count": 17,
     "metadata": {},
     "output_type": "execute_result"
    }
   ],
   "source": [
    "df_actions_date = df_actions.clone()\n",
    "df_actions_date = df_actions_date.with_columns(\n",
    "    pl.col(\"date\").str.strptime(\n",
    "        pl.Datetime, \"%Y-%m-%dT%H:%M:%S%z\"\n",
    "    )\n",
    ")\n",
    "df_actions_date[[\"date\", \"point\"]] \\\n",
    "    .groupby_dynamic(\n",
    "        \"date\", \n",
    "        every=\"10m\", \n",
    "        offset=\"-5m\"    # FIXME: offset may not work?\n",
    "    ) \\\n",
    "    .agg([\n",
    "        pl.col(\"point\").sum(),\n",
    "    ])"
   ]
  },
  {
   "cell_type": "markdown",
   "id": "6b41a73d",
   "metadata": {},
   "source": [
    "## actionに対するリアクションデータの解析"
   ]
  },
  {
   "cell_type": "code",
   "execution_count": 18,
   "id": "1338f9a0",
   "metadata": {},
   "outputs": [
    {
     "data": {
      "text/html": [
       "<div><style>\n",
       ".dataframe > thead > tr > th,\n",
       ".dataframe > tbody > tr > td {\n",
       "  text-align: right;\n",
       "}\n",
       "</style>\n",
       "<small>shape: (3, 6)</small><table border=\"1\" class=\"dataframe\"><thead><tr><th>id</th><th>action_id</th><th>user_id</th><th>date</th><th>type</th><th>reward</th></tr><tr><td>str</td><td>str</td><td>str</td><td>str</td><td>str</td><td>i64</td></tr></thead><tbody><tr><td>&quot;ycV0zbqrL5&quot;</td><td>&quot;7GsubTX9n6&quot;</td><td>&quot;AQA7LkexXv&quot;</td><td>&quot;2021-08-15T11:...</td><td>&quot;like&quot;</td><td>1</td></tr><tr><td>&quot;NXXk7iEsMA&quot;</td><td>&quot;OoXNK4b3px&quot;</td><td>&quot;AQA7LkexXv&quot;</td><td>&quot;2021-08-15T13:...</td><td>&quot;like&quot;</td><td>1</td></tr><tr><td>&quot;Oq9i6DBTBp&quot;</td><td>&quot;OoXNK4b3px&quot;</td><td>&quot;AQA7LkexXv&quot;</td><td>&quot;2021-08-15T13:...</td><td>&quot;like&quot;</td><td>1</td></tr></tbody></table></div>"
      ],
      "text/plain": [
       "shape: (3, 6)\n",
       "┌────────────┬────────────┬────────────┬───────────────────────────┬──────┬────────┐\n",
       "│ id         ┆ action_id  ┆ user_id    ┆ date                      ┆ type ┆ reward │\n",
       "│ ---        ┆ ---        ┆ ---        ┆ ---                       ┆ ---  ┆ ---    │\n",
       "│ str        ┆ str        ┆ str        ┆ str                       ┆ str  ┆ i64    │\n",
       "╞════════════╪════════════╪════════════╪═══════════════════════════╪══════╪════════╡\n",
       "│ ycV0zbqrL5 ┆ 7GsubTX9n6 ┆ AQA7LkexXv ┆ 2021-08-15T11:52:12+09:00 ┆ like ┆ 1      │\n",
       "│ NXXk7iEsMA ┆ OoXNK4b3px ┆ AQA7LkexXv ┆ 2021-08-15T13:09:31+09:00 ┆ like ┆ 1      │\n",
       "│ Oq9i6DBTBp ┆ OoXNK4b3px ┆ AQA7LkexXv ┆ 2021-08-15T13:21:47+09:00 ┆ like ┆ 1      │\n",
       "└────────────┴────────────┴────────────┴───────────────────────────┴──────┴────────┘"
      ]
     },
     "execution_count": 18,
     "metadata": {},
     "output_type": "execute_result"
    }
   ],
   "source": [
    "df_reactions_1 = pl.read_csv(\"reactions_1.csv\")\n",
    "df_reactions_1"
   ]
  },
  {
   "cell_type": "code",
   "execution_count": 19,
   "id": "915c33ef",
   "metadata": {},
   "outputs": [
    {
     "data": {
      "text/html": [
       "<div><style>\n",
       ".dataframe > thead > tr > th,\n",
       ".dataframe > tbody > tr > td {\n",
       "  text-align: right;\n",
       "}\n",
       "</style>\n",
       "<small>shape: (1, 6)</small><table border=\"1\" class=\"dataframe\"><thead><tr><th>id</th><th>action_id</th><th>user_id</th><th>date</th><th>type</th><th>reward</th></tr><tr><td>str</td><td>str</td><td>str</td><td>str</td><td>str</td><td>i64</td></tr></thead><tbody><tr><td>&quot;jwUcUCuVEq&quot;</td><td>&quot;D76FJVQ2j2&quot;</td><td>&quot;BcHgeZkTsc&quot;</td><td>&quot;2021-08-15T16:...</td><td>&quot;comment&quot;</td><td>3</td></tr></tbody></table></div>"
      ],
      "text/plain": [
       "shape: (1, 6)\n",
       "┌────────────┬────────────┬────────────┬───────────────────────────┬─────────┬────────┐\n",
       "│ id         ┆ action_id  ┆ user_id    ┆ date                      ┆ type    ┆ reward │\n",
       "│ ---        ┆ ---        ┆ ---        ┆ ---                       ┆ ---     ┆ ---    │\n",
       "│ str        ┆ str        ┆ str        ┆ str                       ┆ str     ┆ i64    │\n",
       "╞════════════╪════════════╪════════════╪═══════════════════════════╪═════════╪════════╡\n",
       "│ jwUcUCuVEq ┆ D76FJVQ2j2 ┆ BcHgeZkTsc ┆ 2021-08-15T16:21:48+09:00 ┆ comment ┆ 3      │\n",
       "└────────────┴────────────┴────────────┴───────────────────────────┴─────────┴────────┘"
      ]
     },
     "execution_count": 19,
     "metadata": {},
     "output_type": "execute_result"
    }
   ],
   "source": [
    "df_reactions_2 = pl.read_csv(\"reactions_2.csv\")\n",
    "df_reactions_2"
   ]
  },
  {
   "cell_type": "markdown",
   "id": "a2d9978a",
   "metadata": {},
   "source": [
    "## 2データを1つのDataFrameに結合する: concat"
   ]
  },
  {
   "cell_type": "code",
   "execution_count": 20,
   "id": "15a0d28a",
   "metadata": {},
   "outputs": [
    {
     "data": {
      "text/html": [
       "<div><style>\n",
       ".dataframe > thead > tr > th,\n",
       ".dataframe > tbody > tr > td {\n",
       "  text-align: right;\n",
       "}\n",
       "</style>\n",
       "<small>shape: (4, 6)</small><table border=\"1\" class=\"dataframe\"><thead><tr><th>id</th><th>action_id</th><th>user_id</th><th>date</th><th>type</th><th>reward</th></tr><tr><td>str</td><td>str</td><td>str</td><td>str</td><td>str</td><td>i64</td></tr></thead><tbody><tr><td>&quot;ycV0zbqrL5&quot;</td><td>&quot;7GsubTX9n6&quot;</td><td>&quot;AQA7LkexXv&quot;</td><td>&quot;2021-08-15T11:...</td><td>&quot;like&quot;</td><td>1</td></tr><tr><td>&quot;NXXk7iEsMA&quot;</td><td>&quot;OoXNK4b3px&quot;</td><td>&quot;AQA7LkexXv&quot;</td><td>&quot;2021-08-15T13:...</td><td>&quot;like&quot;</td><td>1</td></tr><tr><td>&quot;Oq9i6DBTBp&quot;</td><td>&quot;OoXNK4b3px&quot;</td><td>&quot;AQA7LkexXv&quot;</td><td>&quot;2021-08-15T13:...</td><td>&quot;like&quot;</td><td>1</td></tr><tr><td>&quot;jwUcUCuVEq&quot;</td><td>&quot;D76FJVQ2j2&quot;</td><td>&quot;BcHgeZkTsc&quot;</td><td>&quot;2021-08-15T16:...</td><td>&quot;comment&quot;</td><td>3</td></tr></tbody></table></div>"
      ],
      "text/plain": [
       "shape: (4, 6)\n",
       "┌────────────┬────────────┬────────────┬───────────────────────────┬─────────┬────────┐\n",
       "│ id         ┆ action_id  ┆ user_id    ┆ date                      ┆ type    ┆ reward │\n",
       "│ ---        ┆ ---        ┆ ---        ┆ ---                       ┆ ---     ┆ ---    │\n",
       "│ str        ┆ str        ┆ str        ┆ str                       ┆ str     ┆ i64    │\n",
       "╞════════════╪════════════╪════════════╪═══════════════════════════╪═════════╪════════╡\n",
       "│ ycV0zbqrL5 ┆ 7GsubTX9n6 ┆ AQA7LkexXv ┆ 2021-08-15T11:52:12+09:00 ┆ like    ┆ 1      │\n",
       "│ NXXk7iEsMA ┆ OoXNK4b3px ┆ AQA7LkexXv ┆ 2021-08-15T13:09:31+09:00 ┆ like    ┆ 1      │\n",
       "│ Oq9i6DBTBp ┆ OoXNK4b3px ┆ AQA7LkexXv ┆ 2021-08-15T13:21:47+09:00 ┆ like    ┆ 1      │\n",
       "│ jwUcUCuVEq ┆ D76FJVQ2j2 ┆ BcHgeZkTsc ┆ 2021-08-15T16:21:48+09:00 ┆ comment ┆ 3      │\n",
       "└────────────┴────────────┴────────────┴───────────────────────────┴─────────┴────────┘"
      ]
     },
     "execution_count": 20,
     "metadata": {},
     "output_type": "execute_result"
    }
   ],
   "source": [
    "df_reactions = pl.concat([df_reactions_1, df_reactions_2])\n",
    "df_reactions"
   ]
  },
  {
   "cell_type": "markdown",
   "id": "3f2902d5",
   "metadata": {},
   "source": [
    "# 複数データをmergeして解析する"
   ]
  },
  {
   "cell_type": "markdown",
   "id": "fdaf29ee",
   "metadata": {},
   "source": [
    "## action, reactionデータをactionのidで左結合: join, (rename)\n",
    "polars.DataFrame.mergeは存在しない。代わりに、polars.DataFrame.joinで対応する。\n",
    "\n",
    "polars.DataFrame.renameは、DataFrameにindexがないのでcolumnsを指定する必要がない。\n"
   ]
  },
  {
   "cell_type": "code",
   "execution_count": 21,
   "id": "ec3f8b17",
   "metadata": {},
   "outputs": [
    {
     "data": {
      "text/html": [
       "<div><style>\n",
       ".dataframe > thead > tr > th,\n",
       ".dataframe > tbody > tr > td {\n",
       "  text-align: right;\n",
       "}\n",
       "</style>\n",
       "<small>shape: (8, 10)</small><table border=\"1\" class=\"dataframe\"><thead><tr><th>action_id</th><th>user_id</th><th>date</th><th>message</th><th>point</th><th>reaction_id</th><th>reaction_user_id</th><th>reaction_date</th><th>type</th><th>reward</th></tr><tr><td>str</td><td>str</td><td>str</td><td>str</td><td>i64</td><td>str</td><td>str</td><td>str</td><td>str</td><td>i64</td></tr></thead><tbody><tr><td>&quot;7GsubTX9n6&quot;</td><td>&quot;BcHgeZkTsc&quot;</td><td>&quot;2021-08-15T10:...</td><td>&quot;Hoge hoge&quot;</td><td>1</td><td>&quot;ycV0zbqrL5&quot;</td><td>&quot;AQA7LkexXv&quot;</td><td>&quot;2021-08-15T11:...</td><td>&quot;like&quot;</td><td>1</td></tr><tr><td>&quot;D76FJVQ2j2&quot;</td><td>&quot;KHPiabVr3o&quot;</td><td>&quot;2021-08-15T10:...</td><td>&quot;Lorem Ipsum&quot;</td><td>21</td><td>&quot;jwUcUCuVEq&quot;</td><td>&quot;BcHgeZkTsc&quot;</td><td>&quot;2021-08-15T16:...</td><td>&quot;comment&quot;</td><td>3</td></tr><tr><td>&quot;6znyhCukd6&quot;</td><td>&quot;HzZow64HGH&quot;</td><td>&quot;2021-08-15T11:...</td><td>&quot;テスト　テスト&quot;</td><td>3</td><td>null</td><td>null</td><td>null</td><td>null</td><td>0</td></tr><tr><td>&quot;hSQszmDjlU&quot;</td><td>&quot;BcHgeZkTsc&quot;</td><td>&quot;2021-08-15T12:...</td><td>&quot;テスト\n",
       "テスト２&quot;</td><td>42</td><td>null</td><td>null</td><td>null</td><td>null</td><td>0</td></tr><tr><td>&quot;CVqQD0xH2Y&quot;</td><td>&quot;HzZow64HGH&quot;</td><td>&quot;2021-08-15T14:...</td><td>&quot;👑👑💢&quot;</td><td>49</td><td>null</td><td>null</td><td>null</td><td>null</td><td>0</td></tr><tr><td>&quot;OoXNK4b3px&quot;</td><td>&quot;BcHgeZkTsc&quot;</td><td>&quot;2021-08-15T14:...</td><td>&quot;🔡&quot;</td><td>0</td><td>&quot;NXXk7iEsMA&quot;</td><td>&quot;AQA7LkexXv&quot;</td><td>&quot;2021-08-15T13:...</td><td>&quot;like&quot;</td><td>1</td></tr><tr><td>&quot;OoXNK4b3px&quot;</td><td>&quot;BcHgeZkTsc&quot;</td><td>&quot;2021-08-15T14:...</td><td>&quot;🔡&quot;</td><td>0</td><td>&quot;Oq9i6DBTBp&quot;</td><td>&quot;AQA7LkexXv&quot;</td><td>&quot;2021-08-15T13:...</td><td>&quot;like&quot;</td><td>1</td></tr><tr><td>&quot;veDQHBOXnG&quot;</td><td>&quot;BcHgeZkTsc&quot;</td><td>&quot;2021-08-15T14:...</td><td>&quot;foo&quot;</td><td>4</td><td>null</td><td>null</td><td>null</td><td>null</td><td>0</td></tr></tbody></table></div>"
      ],
      "text/plain": [
       "shape: (8, 10)\n",
       "┌────────────┬────────────┬───────────┬───────────┬───┬────────────┬────────────┬─────────┬────────┐\n",
       "│ action_id  ┆ user_id    ┆ date      ┆ message   ┆ … ┆ reaction_u ┆ reaction_d ┆ type    ┆ reward │\n",
       "│ ---        ┆ ---        ┆ ---       ┆ ---       ┆   ┆ ser_id     ┆ ate        ┆ ---     ┆ ---    │\n",
       "│ str        ┆ str        ┆ str       ┆ str       ┆   ┆ ---        ┆ ---        ┆ str     ┆ i64    │\n",
       "│            ┆            ┆           ┆           ┆   ┆ str        ┆ str        ┆         ┆        │\n",
       "╞════════════╪════════════╪═══════════╪═══════════╪═══╪════════════╪════════════╪═════════╪════════╡\n",
       "│ 7GsubTX9n6 ┆ BcHgeZkTsc ┆ 2021-08-1 ┆ Hoge hoge ┆ … ┆ AQA7LkexXv ┆ 2021-08-15 ┆ like    ┆ 1      │\n",
       "│            ┆            ┆ 5T10:12:3 ┆           ┆   ┆            ┆ T11:52:12+ ┆         ┆        │\n",
       "│            ┆            ┆ 4+09:00   ┆           ┆   ┆            ┆ 09:00      ┆         ┆        │\n",
       "│ D76FJVQ2j2 ┆ KHPiabVr3o ┆ 2021-08-1 ┆ Lorem     ┆ … ┆ BcHgeZkTsc ┆ 2021-08-15 ┆ comment ┆ 3      │\n",
       "│            ┆            ┆ 5T10:23:4 ┆ Ipsum     ┆   ┆            ┆ T16:21:48+ ┆         ┆        │\n",
       "│            ┆            ┆ 5+09:00   ┆           ┆   ┆            ┆ 09:00      ┆         ┆        │\n",
       "│ 6znyhCukd6 ┆ HzZow64HGH ┆ 2021-08-1 ┆ テスト　  ┆ … ┆ null       ┆ null       ┆ null    ┆ 0      │\n",
       "│            ┆            ┆ 5T11:54:3 ┆ テスト    ┆   ┆            ┆            ┆         ┆        │\n",
       "│            ┆            ┆ 2+09:00   ┆           ┆   ┆            ┆            ┆         ┆        │\n",
       "│ hSQszmDjlU ┆ BcHgeZkTsc ┆ 2021-08-1 ┆ テスト    ┆ … ┆ null       ┆ null       ┆ null    ┆ 0      │\n",
       "│            ┆            ┆ 5T12:34:5 ┆ テスト２  ┆   ┆            ┆            ┆         ┆        │\n",
       "│            ┆            ┆ 6+09:00   ┆           ┆   ┆            ┆            ┆         ┆        │\n",
       "│ CVqQD0xH2Y ┆ HzZow64HGH ┆ 2021-08-1 ┆ 👑👑💢    ┆ … ┆ null       ┆ null       ┆ null    ┆ 0      │\n",
       "│            ┆            ┆ 5T14:36:5 ┆           ┆   ┆            ┆            ┆         ┆        │\n",
       "│            ┆            ┆ 2+09:00   ┆           ┆   ┆            ┆            ┆         ┆        │\n",
       "│ OoXNK4b3px ┆ BcHgeZkTsc ┆ 2021-08-1 ┆ 🔡        ┆ … ┆ AQA7LkexXv ┆ 2021-08-15 ┆ like    ┆ 1      │\n",
       "│            ┆            ┆ 5T14:41:0 ┆           ┆   ┆            ┆ T13:09:31+ ┆         ┆        │\n",
       "│            ┆            ┆ 3+09:00   ┆           ┆   ┆            ┆ 09:00      ┆         ┆        │\n",
       "│ OoXNK4b3px ┆ BcHgeZkTsc ┆ 2021-08-1 ┆ 🔡        ┆ … ┆ AQA7LkexXv ┆ 2021-08-15 ┆ like    ┆ 1      │\n",
       "│            ┆            ┆ 5T14:41:0 ┆           ┆   ┆            ┆ T13:21:47+ ┆         ┆        │\n",
       "│            ┆            ┆ 3+09:00   ┆           ┆   ┆            ┆ 09:00      ┆         ┆        │\n",
       "│ veDQHBOXnG ┆ BcHgeZkTsc ┆ 2021-08-1 ┆ foo       ┆ … ┆ null       ┆ null       ┆ null    ┆ 0      │\n",
       "│            ┆            ┆ 5T14:52:1 ┆           ┆   ┆            ┆            ┆         ┆        │\n",
       "│            ┆            ┆ 2+09:00   ┆           ┆   ┆            ┆            ┆         ┆        │\n",
       "└────────────┴────────────┴───────────┴───────────┴───┴────────────┴────────────┴─────────┴────────┘"
      ]
     },
     "execution_count": 21,
     "metadata": {},
     "output_type": "execute_result"
    }
   ],
   "source": [
    "df_reactions_renamed = df_reactions.rename({\n",
    "    \"id\": \"reaction_id\", \n",
    "    \"user_id\": \"reaction_user_id\",\n",
    "    \"date\": \"reaction_date\",\n",
    "})\n",
    "df_actions_renamed = df_actions.rename({\"id\": \"action_id\"})\n",
    "\n",
    "df_actions_merged = df_actions_renamed.join(\n",
    "    df_reactions_renamed,\n",
    "    on=[\"action_id\"],\n",
    "    how=\"left\"\n",
    ")\n",
    "\n",
    "df_actions_merged = df_actions_merged.with_columns(\n",
    "    pl.col(\"reward\").fill_null(value=0)\n",
    ")\n",
    "df_actions_merged"
   ]
  },
  {
   "cell_type": "markdown",
   "id": "18056ed0",
   "metadata": {},
   "source": [
    "## 上記データにユーザ名を追加: join\n",
    "df_usersにあるemail, type, leavedは以後使わない\n",
    "\n",
    "そのため、\"id\", \"name\"列以外をdropしている(下記コードの1行目)\n",
    "\n",
    "df_actions_mergedにあるuser_idのみをmerge対象にしたいので、左結合(df_actions_merged.user_idを基準にマージ)する"
   ]
  },
  {
   "cell_type": "code",
   "execution_count": 22,
   "id": "2555496e",
   "metadata": {},
   "outputs": [
    {
     "data": {
      "text/html": [
       "<div><style>\n",
       ".dataframe > thead > tr > th,\n",
       ".dataframe > tbody > tr > td {\n",
       "  text-align: right;\n",
       "}\n",
       "</style>\n",
       "<small>shape: (8, 11)</small><table border=\"1\" class=\"dataframe\"><thead><tr><th>action_id</th><th>user_id</th><th>date</th><th>message</th><th>point</th><th>reaction_id</th><th>reaction_user_id</th><th>reaction_date</th><th>type</th><th>reward</th><th>name</th></tr><tr><td>str</td><td>str</td><td>str</td><td>str</td><td>i64</td><td>str</td><td>str</td><td>str</td><td>str</td><td>i64</td><td>str</td></tr></thead><tbody><tr><td>&quot;7GsubTX9n6&quot;</td><td>&quot;BcHgeZkTsc&quot;</td><td>&quot;2021-08-15T10:...</td><td>&quot;Hoge hoge&quot;</td><td>1</td><td>&quot;ycV0zbqrL5&quot;</td><td>&quot;AQA7LkexXv&quot;</td><td>&quot;2021-08-15T11:...</td><td>&quot;like&quot;</td><td>1</td><td>&quot;アリス&quot;</td></tr><tr><td>&quot;D76FJVQ2j2&quot;</td><td>&quot;KHPiabVr3o&quot;</td><td>&quot;2021-08-15T10:...</td><td>&quot;Lorem Ipsum&quot;</td><td>21</td><td>&quot;jwUcUCuVEq&quot;</td><td>&quot;BcHgeZkTsc&quot;</td><td>&quot;2021-08-15T16:...</td><td>&quot;comment&quot;</td><td>3</td><td>&quot;ボブ&quot;</td></tr><tr><td>&quot;6znyhCukd6&quot;</td><td>&quot;HzZow64HGH&quot;</td><td>&quot;2021-08-15T11:...</td><td>&quot;テスト　テスト&quot;</td><td>3</td><td>null</td><td>null</td><td>null</td><td>null</td><td>0</td><td>&quot;エリザベス&quot;</td></tr><tr><td>&quot;hSQszmDjlU&quot;</td><td>&quot;BcHgeZkTsc&quot;</td><td>&quot;2021-08-15T12:...</td><td>&quot;テスト\n",
       "テスト２&quot;</td><td>42</td><td>null</td><td>null</td><td>null</td><td>null</td><td>0</td><td>&quot;アリス&quot;</td></tr><tr><td>&quot;CVqQD0xH2Y&quot;</td><td>&quot;HzZow64HGH&quot;</td><td>&quot;2021-08-15T14:...</td><td>&quot;👑👑💢&quot;</td><td>49</td><td>null</td><td>null</td><td>null</td><td>null</td><td>0</td><td>&quot;エリザベス&quot;</td></tr><tr><td>&quot;OoXNK4b3px&quot;</td><td>&quot;BcHgeZkTsc&quot;</td><td>&quot;2021-08-15T14:...</td><td>&quot;🔡&quot;</td><td>0</td><td>&quot;NXXk7iEsMA&quot;</td><td>&quot;AQA7LkexXv&quot;</td><td>&quot;2021-08-15T13:...</td><td>&quot;like&quot;</td><td>1</td><td>&quot;アリス&quot;</td></tr><tr><td>&quot;OoXNK4b3px&quot;</td><td>&quot;BcHgeZkTsc&quot;</td><td>&quot;2021-08-15T14:...</td><td>&quot;🔡&quot;</td><td>0</td><td>&quot;Oq9i6DBTBp&quot;</td><td>&quot;AQA7LkexXv&quot;</td><td>&quot;2021-08-15T13:...</td><td>&quot;like&quot;</td><td>1</td><td>&quot;アリス&quot;</td></tr><tr><td>&quot;veDQHBOXnG&quot;</td><td>&quot;BcHgeZkTsc&quot;</td><td>&quot;2021-08-15T14:...</td><td>&quot;foo&quot;</td><td>4</td><td>null</td><td>null</td><td>null</td><td>null</td><td>0</td><td>&quot;アリス&quot;</td></tr></tbody></table></div>"
      ],
      "text/plain": [
       "shape: (8, 11)\n",
       "┌────────────┬────────────┬────────────┬───────────┬───┬────────────┬─────────┬────────┬───────────┐\n",
       "│ action_id  ┆ user_id    ┆ date       ┆ message   ┆ … ┆ reaction_d ┆ type    ┆ reward ┆ name      │\n",
       "│ ---        ┆ ---        ┆ ---        ┆ ---       ┆   ┆ ate        ┆ ---     ┆ ---    ┆ ---       │\n",
       "│ str        ┆ str        ┆ str        ┆ str       ┆   ┆ ---        ┆ str     ┆ i64    ┆ str       │\n",
       "│            ┆            ┆            ┆           ┆   ┆ str        ┆         ┆        ┆           │\n",
       "╞════════════╪════════════╪════════════╪═══════════╪═══╪════════════╪═════════╪════════╪═══════════╡\n",
       "│ 7GsubTX9n6 ┆ BcHgeZkTsc ┆ 2021-08-15 ┆ Hoge hoge ┆ … ┆ 2021-08-15 ┆ like    ┆ 1      ┆ アリス    │\n",
       "│            ┆            ┆ T10:12:34+ ┆           ┆   ┆ T11:52:12+ ┆         ┆        ┆           │\n",
       "│            ┆            ┆ 09:00      ┆           ┆   ┆ 09:00      ┆         ┆        ┆           │\n",
       "│ D76FJVQ2j2 ┆ KHPiabVr3o ┆ 2021-08-15 ┆ Lorem     ┆ … ┆ 2021-08-15 ┆ comment ┆ 3      ┆ ボブ      │\n",
       "│            ┆            ┆ T10:23:45+ ┆ Ipsum     ┆   ┆ T16:21:48+ ┆         ┆        ┆           │\n",
       "│            ┆            ┆ 09:00      ┆           ┆   ┆ 09:00      ┆         ┆        ┆           │\n",
       "│ 6znyhCukd6 ┆ HzZow64HGH ┆ 2021-08-15 ┆ テスト　  ┆ … ┆ null       ┆ null    ┆ 0      ┆ エリザベ  │\n",
       "│            ┆            ┆ T11:54:32+ ┆ テスト    ┆   ┆            ┆         ┆        ┆ ス        │\n",
       "│            ┆            ┆ 09:00      ┆           ┆   ┆            ┆         ┆        ┆           │\n",
       "│ hSQszmDjlU ┆ BcHgeZkTsc ┆ 2021-08-15 ┆ テスト    ┆ … ┆ null       ┆ null    ┆ 0      ┆ アリス    │\n",
       "│            ┆            ┆ T12:34:56+ ┆ テスト２  ┆   ┆            ┆         ┆        ┆           │\n",
       "│            ┆            ┆ 09:00      ┆           ┆   ┆            ┆         ┆        ┆           │\n",
       "│ CVqQD0xH2Y ┆ HzZow64HGH ┆ 2021-08-15 ┆ 👑👑💢    ┆ … ┆ null       ┆ null    ┆ 0      ┆ エリザベ  │\n",
       "│            ┆            ┆ T14:36:52+ ┆           ┆   ┆            ┆         ┆        ┆ ス        │\n",
       "│            ┆            ┆ 09:00      ┆           ┆   ┆            ┆         ┆        ┆           │\n",
       "│ OoXNK4b3px ┆ BcHgeZkTsc ┆ 2021-08-15 ┆ 🔡        ┆ … ┆ 2021-08-15 ┆ like    ┆ 1      ┆ アリス    │\n",
       "│            ┆            ┆ T14:41:03+ ┆           ┆   ┆ T13:09:31+ ┆         ┆        ┆           │\n",
       "│            ┆            ┆ 09:00      ┆           ┆   ┆ 09:00      ┆         ┆        ┆           │\n",
       "│ OoXNK4b3px ┆ BcHgeZkTsc ┆ 2021-08-15 ┆ 🔡        ┆ … ┆ 2021-08-15 ┆ like    ┆ 1      ┆ アリス    │\n",
       "│            ┆            ┆ T14:41:03+ ┆           ┆   ┆ T13:21:47+ ┆         ┆        ┆           │\n",
       "│            ┆            ┆ 09:00      ┆           ┆   ┆ 09:00      ┆         ┆        ┆           │\n",
       "│ veDQHBOXnG ┆ BcHgeZkTsc ┆ 2021-08-15 ┆ foo       ┆ … ┆ null       ┆ null    ┆ 0      ┆ アリス    │\n",
       "│            ┆            ┆ T14:52:12+ ┆           ┆   ┆            ┆         ┆        ┆           │\n",
       "│            ┆            ┆ 09:00      ┆           ┆   ┆            ┆         ┆        ┆           │\n",
       "└────────────┴────────────┴────────────┴───────────┴───┴────────────┴─────────┴────────┴───────────┘"
      ]
     },
     "execution_count": 22,
     "metadata": {},
     "output_type": "execute_result"
    }
   ],
   "source": [
    "df_users_dropped = df_users[[\"id\", \"name\"]]\n",
    "df_merged = df_actions_merged.join(\n",
    "    df_users_dropped.rename({\"id\": \"user_id\"}),\n",
    "    left_on=[\"user_id\"],\n",
    "    right_on=[\"user_id\"],\n",
    "    how=\"left\")\n",
    "df_merged"
   ]
  },
  {
   "cell_type": "markdown",
   "id": "ddca11c3",
   "metadata": {},
   "source": [
    "## ユーザごとの活動量(point + reward)を計算"
   ]
  },
  {
   "cell_type": "code",
   "execution_count": 23,
   "id": "156ea02c",
   "metadata": {},
   "outputs": [
    {
     "data": {
      "text/html": [
       "<div><style>\n",
       ".dataframe > thead > tr > th,\n",
       ".dataframe > tbody > tr > td {\n",
       "  text-align: right;\n",
       "}\n",
       "</style>\n",
       "<small>shape: (3, 2)</small><table border=\"1\" class=\"dataframe\"><thead><tr><th>user_id</th><th>activity</th></tr><tr><td>str</td><td>i64</td></tr></thead><tbody><tr><td>&quot;KHPiabVr3o&quot;</td><td>24</td></tr><tr><td>&quot;HzZow64HGH&quot;</td><td>52</td></tr><tr><td>&quot;BcHgeZkTsc&quot;</td><td>50</td></tr></tbody></table></div>"
      ],
      "text/plain": [
       "shape: (3, 2)\n",
       "┌────────────┬──────────┐\n",
       "│ user_id    ┆ activity │\n",
       "│ ---        ┆ ---      │\n",
       "│ str        ┆ i64      │\n",
       "╞════════════╪══════════╡\n",
       "│ KHPiabVr3o ┆ 24       │\n",
       "│ HzZow64HGH ┆ 52       │\n",
       "│ BcHgeZkTsc ┆ 50       │\n",
       "└────────────┴──────────┘"
      ]
     },
     "execution_count": 23,
     "metadata": {},
     "output_type": "execute_result"
    }
   ],
   "source": [
    "df_sum = df_merged \\\n",
    "    .groupby(\"user_id\") \\\n",
    "    .agg([\n",
    "        pl.col(\"point\").fill_null(0).sum() + pl.col(\"reward\").fill_null(0).sum(),\n",
    "    ])\n",
    "df_sum = df_sum.rename({\"point\": \"activity\"})\n",
    "df_sum"
   ]
  },
  {
   "cell_type": "markdown",
   "id": "bb36d117",
   "metadata": {},
   "source": [
    "## ユーザごとに活動量のランキングを出す"
   ]
  },
  {
   "cell_type": "code",
   "execution_count": 24,
   "id": "af3b2738",
   "metadata": {},
   "outputs": [
    {
     "data": {
      "text/html": [
       "<div><style>\n",
       ".dataframe > thead > tr > th,\n",
       ".dataframe > tbody > tr > td {\n",
       "  text-align: right;\n",
       "}\n",
       "</style>\n",
       "<small>shape: (3, 3)</small><table border=\"1\" class=\"dataframe\"><thead><tr><th>user_id</th><th>activity</th><th>name</th></tr><tr><td>str</td><td>i64</td><td>str</td></tr></thead><tbody><tr><td>&quot;HzZow64HGH&quot;</td><td>52</td><td>&quot;エリザベス&quot;</td></tr><tr><td>&quot;BcHgeZkTsc&quot;</td><td>50</td><td>&quot;アリス&quot;</td></tr><tr><td>&quot;KHPiabVr3o&quot;</td><td>24</td><td>&quot;ボブ&quot;</td></tr></tbody></table></div>"
      ],
      "text/plain": [
       "shape: (3, 3)\n",
       "┌────────────┬──────────┬────────────┐\n",
       "│ user_id    ┆ activity ┆ name       │\n",
       "│ ---        ┆ ---      ┆ ---        │\n",
       "│ str        ┆ i64      ┆ str        │\n",
       "╞════════════╪══════════╪════════════╡\n",
       "│ HzZow64HGH ┆ 52       ┆ エリザベス │\n",
       "│ BcHgeZkTsc ┆ 50       ┆ アリス     │\n",
       "│ KHPiabVr3o ┆ 24       ┆ ボブ       │\n",
       "└────────────┴──────────┴────────────┘"
      ]
     },
     "execution_count": 24,
     "metadata": {},
     "output_type": "execute_result"
    }
   ],
   "source": [
    "df_ranking = df_sum \\\n",
    "    .join(\n",
    "        df_users_dropped.rename({\"id\": \"user_id\"}),\n",
    "        on=\"user_id\",\n",
    "        how=\"left\"\n",
    "    ) \\\n",
    "    .sort([\"activity\"], descending=True)\n",
    "df_ranking"
   ]
  },
  {
   "cell_type": "code",
   "execution_count": null,
   "id": "35b5301b",
   "metadata": {},
   "outputs": [],
   "source": []
  }
 ],
 "metadata": {
  "kernelspec": {
   "display_name": "Python 3 (ipykernel)",
   "language": "python",
   "name": "python3"
  },
  "language_info": {
   "codemirror_mode": {
    "name": "ipython",
    "version": 3
   },
   "file_extension": ".py",
   "mimetype": "text/x-python",
   "name": "python",
   "nbconvert_exporter": "python",
   "pygments_lexer": "ipython3",
   "version": "3.11.2"
  }
 },
 "nbformat": 4,
 "nbformat_minor": 5
}
